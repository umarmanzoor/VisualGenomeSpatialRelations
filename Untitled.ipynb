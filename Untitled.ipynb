{
 "cells": [
  {
   "cell_type": "code",
   "execution_count": 1,
   "metadata": {},
   "outputs": [],
   "source": [
    "import numpy as np\n",
    "import pandas as pd\n",
    "import utils\n",
    "from sklearn.model_selection import train_test_split\n",
    "from sklearn.svm import SVC\n",
    "from sklearn.linear_model import LogisticRegression, SGDClassifier\n",
    "from sklearn.metrics import f1_score, precision_score, recall_score, confusion_matrix\n",
    "from sklearn.ensemble import RandomForestClassifier\n",
    "from sklearn.neighbors import KNeighborsClassifier"
   ]
  },
  {
   "cell_type": "code",
   "execution_count": null,
   "metadata": {},
   "outputs": [
    {
     "name": "stdout",
     "output_type": "stream",
     "text": [
      "reading data ...\n"
     ]
    },
    {
     "data": {
      "text/html": [
       "<div>\n",
       "<style>\n",
       "    .dataframe thead tr:only-child th {\n",
       "        text-align: right;\n",
       "    }\n",
       "\n",
       "    .dataframe thead th {\n",
       "        text-align: left;\n",
       "    }\n",
       "\n",
       "    .dataframe tbody tr th {\n",
       "        vertical-align: top;\n",
       "    }\n",
       "</style>\n",
       "<table border=\"1\" class=\"dataframe\">\n",
       "  <thead>\n",
       "    <tr style=\"text-align: right;\">\n",
       "      <th></th>\n",
       "      <th>img</th>\n",
       "      <th>rel</th>\n",
       "      <th>a_x</th>\n",
       "      <th>a_y</th>\n",
       "      <th>a_w</th>\n",
       "      <th>a_h</th>\n",
       "      <th>b_x</th>\n",
       "      <th>b_y</th>\n",
       "      <th>b_w</th>\n",
       "      <th>b_h</th>\n",
       "      <th>...</th>\n",
       "      <th>TPP</th>\n",
       "      <th>TPPi</th>\n",
       "      <th>NTPP</th>\n",
       "      <th>NTPPi</th>\n",
       "      <th>EQ</th>\n",
       "      <th>PO</th>\n",
       "      <th>above</th>\n",
       "      <th>below</th>\n",
       "      <th>left</th>\n",
       "      <th>right</th>\n",
       "    </tr>\n",
       "  </thead>\n",
       "  <tbody>\n",
       "    <tr>\n",
       "      <th>0</th>\n",
       "      <td>1</td>\n",
       "      <td>ON</td>\n",
       "      <td>78</td>\n",
       "      <td>308</td>\n",
       "      <td>722</td>\n",
       "      <td>290</td>\n",
       "      <td>119</td>\n",
       "      <td>338</td>\n",
       "      <td>274</td>\n",
       "      <td>192</td>\n",
       "      <td>...</td>\n",
       "      <td>0</td>\n",
       "      <td>0</td>\n",
       "      <td>0</td>\n",
       "      <td>1</td>\n",
       "      <td>0</td>\n",
       "      <td>0</td>\n",
       "      <td>0</td>\n",
       "      <td>0</td>\n",
       "      <td>1</td>\n",
       "      <td>0</td>\n",
       "    </tr>\n",
       "    <tr>\n",
       "      <th>1</th>\n",
       "      <td>1</td>\n",
       "      <td>wears</td>\n",
       "      <td>388</td>\n",
       "      <td>485</td>\n",
       "      <td>48</td>\n",
       "      <td>28</td>\n",
       "      <td>238</td>\n",
       "      <td>249</td>\n",
       "      <td>60</td>\n",
       "      <td>262</td>\n",
       "      <td>...</td>\n",
       "      <td>0</td>\n",
       "      <td>0</td>\n",
       "      <td>0</td>\n",
       "      <td>0</td>\n",
       "      <td>0</td>\n",
       "      <td>0</td>\n",
       "      <td>0</td>\n",
       "      <td>0</td>\n",
       "      <td>1</td>\n",
       "      <td>0</td>\n",
       "    </tr>\n",
       "    <tr>\n",
       "      <th>2</th>\n",
       "      <td>1</td>\n",
       "      <td>has</td>\n",
       "      <td>514</td>\n",
       "      <td>366</td>\n",
       "      <td>23</td>\n",
       "      <td>15</td>\n",
       "      <td>479</td>\n",
       "      <td>315</td>\n",
       "      <td>74</td>\n",
       "      <td>98</td>\n",
       "      <td>...</td>\n",
       "      <td>0</td>\n",
       "      <td>0</td>\n",
       "      <td>1</td>\n",
       "      <td>0</td>\n",
       "      <td>0</td>\n",
       "      <td>0</td>\n",
       "      <td>0</td>\n",
       "      <td>0</td>\n",
       "      <td>0</td>\n",
       "      <td>0</td>\n",
       "    </tr>\n",
       "    <tr>\n",
       "      <th>3</th>\n",
       "      <td>1</td>\n",
       "      <td>ON</td>\n",
       "      <td>1</td>\n",
       "      <td>2</td>\n",
       "      <td>218</td>\n",
       "      <td>536</td>\n",
       "      <td>118</td>\n",
       "      <td>13</td>\n",
       "      <td>88</td>\n",
       "      <td>182</td>\n",
       "      <td>...</td>\n",
       "      <td>0</td>\n",
       "      <td>0</td>\n",
       "      <td>0</td>\n",
       "      <td>1</td>\n",
       "      <td>0</td>\n",
       "      <td>0</td>\n",
       "      <td>0</td>\n",
       "      <td>1</td>\n",
       "      <td>0</td>\n",
       "      <td>0</td>\n",
       "    </tr>\n",
       "    <tr>\n",
       "      <th>4</th>\n",
       "      <td>1</td>\n",
       "      <td>ON</td>\n",
       "      <td>77</td>\n",
       "      <td>331</td>\n",
       "      <td>722</td>\n",
       "      <td>266</td>\n",
       "      <td>622</td>\n",
       "      <td>234</td>\n",
       "      <td>87</td>\n",
       "      <td>327</td>\n",
       "      <td>...</td>\n",
       "      <td>0</td>\n",
       "      <td>0</td>\n",
       "      <td>0</td>\n",
       "      <td>0</td>\n",
       "      <td>0</td>\n",
       "      <td>1</td>\n",
       "      <td>0</td>\n",
       "      <td>0</td>\n",
       "      <td>0</td>\n",
       "      <td>1</td>\n",
       "    </tr>\n",
       "  </tbody>\n",
       "</table>\n",
       "<p>5 rows × 22 columns</p>\n",
       "</div>"
      ],
      "text/plain": [
       "   img    rel  a_x   a_y   a_w   a_h  b_x   b_y   b_w   b_h  ...    TPP  TPPi  \\\n",
       "0    1     ON   78   308   722   290  119   338   274   192  ...      0     0   \n",
       "1    1  wears  388   485    48    28  238   249    60   262  ...      0     0   \n",
       "2    1    has  514   366    23    15  479   315    74    98  ...      0     0   \n",
       "3    1     ON    1     2   218   536  118    13    88   182  ...      0     0   \n",
       "4    1     ON   77   331   722   266  622   234    87   327  ...      0     0   \n",
       "\n",
       "   NTPP  NTPPi  EQ  PO  above  below  left  right  \n",
       "0     0      1   0   0      0      0     1      0  \n",
       "1     0      0   0   0      0      0     1      0  \n",
       "2     1      0   0   0      0      0     0      0  \n",
       "3     0      1   0   0      0      1     0      0  \n",
       "4     0      0   0   1      0      0     0      1  \n",
       "\n",
       "[5 rows x 22 columns]"
      ]
     },
     "execution_count": 2,
     "metadata": {},
     "output_type": "execute_result"
    }
   ],
   "source": [
    "print(\"reading data ...\")\n",
    "data = pd.read_csv(utils.flat_rels_path)\n",
    "data.head(5)"
   ]
  },
  {
   "cell_type": "code",
   "execution_count": 116,
   "metadata": {},
   "outputs": [],
   "source": [
    "def evaluate(data, relation):\n",
    "    new_data = data.sample(frac=1).copy().reset_index()\n",
    "    new_data['rel'] = new_data['rel'].str.lower().map(lambda x: 1 if x == relation else 0)\n",
    "    train = len(new_data) * 0.8\n",
    "    train_data = new_data.loc[0: train]\n",
    "    test_data = new_data.loc[train:]\n",
    "    \n",
    "    # down sample\n",
    "    train_p = train_data[train_data['rel'] == 1]\n",
    "    f = int(len(train_data)/len(train_p))\n",
    "    print(f)\n",
    "    train_n = train_data[train_data['rel'] == 0].head(min(len(train_p)*5, len(train_data)))\n",
    "    train_data = train_p.append(train_n).sample(frac = 1)\n",
    "\n",
    "    X_train = train_data[data.columns[10:]]\n",
    "    y_train = train_data['rel']\n",
    "    X_test = test_data[data.columns[10:]]\n",
    "    y_test = test_data['rel']\n",
    "    \n",
    "    model = RandomForestClassifier()\n",
    "    model.fit(X_train, y_train)\n",
    "    p_test = model.predict(X_test)\n",
    "    print(\"precision: %0.3f\" % (precision_score(y_test, p_test)))\n",
    "    print(\"recall: %0.3f\" % recall_score(y_test, p_test))    \n",
    "    print(\"f1: %0.3f\"% f1_score(y_test, p_test))    "
   ]
  },
  {
   "cell_type": "code",
   "execution_count": 112,
   "metadata": {},
   "outputs": [
    {
     "name": "stdout",
     "output_type": "stream",
     "text": [
      "3\n",
      "precision: 0.491\n",
      "recall: 0.479\n",
      "f1: 0.485\n"
     ]
    }
   ],
   "source": [
    "evaluate(data, 'on')"
   ]
  },
  {
   "cell_type": "code",
   "execution_count": 113,
   "metadata": {},
   "outputs": [
    {
     "name": "stdout",
     "output_type": "stream",
     "text": [
      "684\n",
      "precision: 0.009\n",
      "recall: 0.642\n",
      "f1: 0.018\n"
     ]
    }
   ],
   "source": [
    "evaluate(data, 'below')"
   ]
  },
  {
   "cell_type": "code",
   "execution_count": 114,
   "metadata": {},
   "outputs": [
    {
     "name": "stdout",
     "output_type": "stream",
     "text": [
      "167\n",
      "precision: 0.027\n",
      "recall: 0.742\n",
      "f1: 0.052\n"
     ]
    }
   ],
   "source": [
    "evaluate(data, 'above')"
   ]
  },
  {
   "cell_type": "code",
   "execution_count": 117,
   "metadata": {},
   "outputs": [
    {
     "name": "stdout",
     "output_type": "stream",
     "text": [
      "10835\n",
      "precision: 0.000\n",
      "recall: 0.019\n",
      "f1: 0.000\n"
     ]
    }
   ],
   "source": [
    "evaluate(data, 'left')"
   ]
  },
  {
   "cell_type": "code",
   "execution_count": 118,
   "metadata": {},
   "outputs": [
    {
     "name": "stdout",
     "output_type": "stream",
     "text": [
      "13827\n",
      "precision: 0.000\n",
      "recall: 0.000\n",
      "f1: 0.000\n"
     ]
    }
   ],
   "source": [
    "evaluate(data, 'right')"
   ]
  },
  {
   "cell_type": "code",
   "execution_count": null,
   "metadata": {
    "collapsed": true
   },
   "outputs": [],
   "source": []
  }
 ],
 "metadata": {
  "kernelspec": {
   "display_name": "Python 3",
   "language": "python",
   "name": "python3"
  },
  "language_info": {
   "codemirror_mode": {
    "name": "ipython",
    "version": 3
   },
   "file_extension": ".py",
   "mimetype": "text/x-python",
   "name": "python",
   "nbconvert_exporter": "python",
   "pygments_lexer": "ipython3",
   "version": "3.6.1"
  }
 },
 "nbformat": 4,
 "nbformat_minor": 2
}
